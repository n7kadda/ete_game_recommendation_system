{
 "cells": [
  {
   "cell_type": "code",
   "execution_count": 30,
   "metadata": {
    "_cell_guid": "b1076dfc-b9ad-4769-8c92-a6c4dae69d19",
    "_uuid": "8f2839f25d086af736a60e9eeb907d3b93b6e0e5",
    "execution": {
     "iopub.execute_input": "2025-07-29T13:16:43.332872Z",
     "iopub.status.busy": "2025-07-29T13:16:43.332600Z",
     "iopub.status.idle": "2025-07-29T13:16:43.338813Z",
     "shell.execute_reply": "2025-07-29T13:16:43.338152Z",
     "shell.execute_reply.started": "2025-07-29T13:16:43.332850Z"
    },
    "trusted": true
   },
   "outputs": [],
   "source": [
    "import pandas as pd\n",
    "import numpy as np\n",
    "from surprise import Reader, Dataset, SVD\n",
    "from sklearn.model_selection import train_test_split\n",
    "import tensorflow as tf\n",
    "from tensorflow.keras.models import Model\n",
    "from tensorflow.keras.layers import Input, Embedding, Dot, Flatten, Dense\n",
    "from tensorflow.keras.optimizers import Adam\n",
    "from sklearn.metrics.pairwise import cosine_similarity"
   ]
  },
  {
   "cell_type": "code",
   "execution_count": 3,
   "metadata": {
    "execution": {
     "iopub.execute_input": "2025-07-29T13:00:04.952455Z",
     "iopub.status.busy": "2025-07-29T13:00:04.952045Z",
     "iopub.status.idle": "2025-07-29T13:00:05.161148Z",
     "shell.execute_reply": "2025-07-29T13:00:05.160603Z",
     "shell.execute_reply.started": "2025-07-29T13:00:04.952435Z"
    },
    "trusted": true
   },
   "outputs": [],
   "source": [
    "interaction_cols = ['UserID', 'GameName', 'Action', 'HoursPlayed', 'Dummy']\n",
    "\n",
    "df_interactions = pd.read_csv('/kaggle/input/steam-video-games/steam-200k.csv', header=None, names=interaction_cols)\n",
    "df_interactions.drop('Dummy', axis=1, inplace=True)"
   ]
  },
  {
   "cell_type": "code",
   "execution_count": 4,
   "metadata": {
    "execution": {
     "iopub.execute_input": "2025-07-29T13:00:05.161984Z",
     "iopub.status.busy": "2025-07-29T13:00:05.161793Z",
     "iopub.status.idle": "2025-07-29T13:00:05.180961Z",
     "shell.execute_reply": "2025-07-29T13:00:05.180217Z",
     "shell.execute_reply.started": "2025-07-29T13:00:05.161968Z"
    },
    "trusted": true
   },
   "outputs": [
    {
     "data": {
      "text/html": [
       "<div>\n",
       "<style scoped>\n",
       "    .dataframe tbody tr th:only-of-type {\n",
       "        vertical-align: middle;\n",
       "    }\n",
       "\n",
       "    .dataframe tbody tr th {\n",
       "        vertical-align: top;\n",
       "    }\n",
       "\n",
       "    .dataframe thead th {\n",
       "        text-align: right;\n",
       "    }\n",
       "</style>\n",
       "<table border=\"1\" class=\"dataframe\">\n",
       "  <thead>\n",
       "    <tr style=\"text-align: right;\">\n",
       "      <th></th>\n",
       "      <th>UserID</th>\n",
       "      <th>GameName</th>\n",
       "      <th>Action</th>\n",
       "      <th>HoursPlayed</th>\n",
       "    </tr>\n",
       "  </thead>\n",
       "  <tbody>\n",
       "    <tr>\n",
       "      <th>0</th>\n",
       "      <td>151603712</td>\n",
       "      <td>The Elder Scrolls V Skyrim</td>\n",
       "      <td>purchase</td>\n",
       "      <td>1.0</td>\n",
       "    </tr>\n",
       "    <tr>\n",
       "      <th>1</th>\n",
       "      <td>151603712</td>\n",
       "      <td>The Elder Scrolls V Skyrim</td>\n",
       "      <td>play</td>\n",
       "      <td>273.0</td>\n",
       "    </tr>\n",
       "    <tr>\n",
       "      <th>2</th>\n",
       "      <td>151603712</td>\n",
       "      <td>Fallout 4</td>\n",
       "      <td>purchase</td>\n",
       "      <td>1.0</td>\n",
       "    </tr>\n",
       "    <tr>\n",
       "      <th>3</th>\n",
       "      <td>151603712</td>\n",
       "      <td>Fallout 4</td>\n",
       "      <td>play</td>\n",
       "      <td>87.0</td>\n",
       "    </tr>\n",
       "    <tr>\n",
       "      <th>4</th>\n",
       "      <td>151603712</td>\n",
       "      <td>Spore</td>\n",
       "      <td>purchase</td>\n",
       "      <td>1.0</td>\n",
       "    </tr>\n",
       "  </tbody>\n",
       "</table>\n",
       "</div>"
      ],
      "text/plain": [
       "      UserID                    GameName    Action  HoursPlayed\n",
       "0  151603712  The Elder Scrolls V Skyrim  purchase          1.0\n",
       "1  151603712  The Elder Scrolls V Skyrim      play        273.0\n",
       "2  151603712                   Fallout 4  purchase          1.0\n",
       "3  151603712                   Fallout 4      play         87.0\n",
       "4  151603712                       Spore  purchase          1.0"
      ]
     },
     "execution_count": 4,
     "metadata": {},
     "output_type": "execute_result"
    }
   ],
   "source": [
    "df_interactions.head()"
   ]
  },
  {
   "cell_type": "code",
   "execution_count": 5,
   "metadata": {
    "execution": {
     "iopub.execute_input": "2025-07-29T13:00:05.182455Z",
     "iopub.status.busy": "2025-07-29T13:00:05.182179Z",
     "iopub.status.idle": "2025-07-29T13:00:05.203420Z",
     "shell.execute_reply": "2025-07-29T13:00:05.202661Z",
     "shell.execute_reply.started": "2025-07-29T13:00:05.182426Z"
    },
    "trusted": true
   },
   "outputs": [],
   "source": [
    "df_play = df_interactions[df_interactions['Action'] == 'play'].copy()"
   ]
  },
  {
   "cell_type": "code",
   "execution_count": 6,
   "metadata": {
    "execution": {
     "iopub.execute_input": "2025-07-29T13:00:10.295892Z",
     "iopub.status.busy": "2025-07-29T13:00:10.295569Z",
     "iopub.status.idle": "2025-07-29T13:00:10.301990Z",
     "shell.execute_reply": "2025-07-29T13:00:10.301348Z",
     "shell.execute_reply.started": "2025-07-29T13:00:10.295870Z"
    },
    "trusted": true
   },
   "outputs": [],
   "source": [
    "df_play.drop('Action', axis=1, inplace=True)"
   ]
  },
  {
   "cell_type": "code",
   "execution_count": 7,
   "metadata": {
    "execution": {
     "iopub.execute_input": "2025-07-29T13:00:15.517269Z",
     "iopub.status.busy": "2025-07-29T13:00:15.516623Z",
     "iopub.status.idle": "2025-07-29T13:00:15.526104Z",
     "shell.execute_reply": "2025-07-29T13:00:15.525096Z",
     "shell.execute_reply.started": "2025-07-29T13:00:15.517237Z"
    },
    "trusted": true
   },
   "outputs": [
    {
     "data": {
      "text/html": [
       "<div>\n",
       "<style scoped>\n",
       "    .dataframe tbody tr th:only-of-type {\n",
       "        vertical-align: middle;\n",
       "    }\n",
       "\n",
       "    .dataframe tbody tr th {\n",
       "        vertical-align: top;\n",
       "    }\n",
       "\n",
       "    .dataframe thead th {\n",
       "        text-align: right;\n",
       "    }\n",
       "</style>\n",
       "<table border=\"1\" class=\"dataframe\">\n",
       "  <thead>\n",
       "    <tr style=\"text-align: right;\">\n",
       "      <th></th>\n",
       "      <th>UserID</th>\n",
       "      <th>GameName</th>\n",
       "      <th>HoursPlayed</th>\n",
       "    </tr>\n",
       "  </thead>\n",
       "  <tbody>\n",
       "    <tr>\n",
       "      <th>1</th>\n",
       "      <td>151603712</td>\n",
       "      <td>The Elder Scrolls V Skyrim</td>\n",
       "      <td>273.0</td>\n",
       "    </tr>\n",
       "    <tr>\n",
       "      <th>3</th>\n",
       "      <td>151603712</td>\n",
       "      <td>Fallout 4</td>\n",
       "      <td>87.0</td>\n",
       "    </tr>\n",
       "    <tr>\n",
       "      <th>5</th>\n",
       "      <td>151603712</td>\n",
       "      <td>Spore</td>\n",
       "      <td>14.9</td>\n",
       "    </tr>\n",
       "    <tr>\n",
       "      <th>7</th>\n",
       "      <td>151603712</td>\n",
       "      <td>Fallout New Vegas</td>\n",
       "      <td>12.1</td>\n",
       "    </tr>\n",
       "    <tr>\n",
       "      <th>9</th>\n",
       "      <td>151603712</td>\n",
       "      <td>Left 4 Dead 2</td>\n",
       "      <td>8.9</td>\n",
       "    </tr>\n",
       "  </tbody>\n",
       "</table>\n",
       "</div>"
      ],
      "text/plain": [
       "      UserID                    GameName  HoursPlayed\n",
       "1  151603712  The Elder Scrolls V Skyrim        273.0\n",
       "3  151603712                   Fallout 4         87.0\n",
       "5  151603712                       Spore         14.9\n",
       "7  151603712           Fallout New Vegas         12.1\n",
       "9  151603712               Left 4 Dead 2          8.9"
      ]
     },
     "execution_count": 7,
     "metadata": {},
     "output_type": "execute_result"
    }
   ],
   "source": [
    "df_play.head()"
   ]
  },
  {
   "cell_type": "code",
   "execution_count": 8,
   "metadata": {
    "execution": {
     "iopub.execute_input": "2025-07-29T13:00:23.653247Z",
     "iopub.status.busy": "2025-07-29T13:00:23.652966Z",
     "iopub.status.idle": "2025-07-29T13:00:23.657614Z",
     "shell.execute_reply": "2025-07-29T13:00:23.656885Z",
     "shell.execute_reply.started": "2025-07-29T13:00:23.653224Z"
    },
    "trusted": true
   },
   "outputs": [
    {
     "name": "stdout",
     "output_type": "stream",
     "text": [
      "70489\n"
     ]
    }
   ],
   "source": [
    "print(len(df_play))"
   ]
  },
  {
   "cell_type": "code",
   "execution_count": 9,
   "metadata": {
    "execution": {
     "iopub.execute_input": "2025-07-29T13:00:31.518081Z",
     "iopub.status.busy": "2025-07-29T13:00:31.517451Z",
     "iopub.status.idle": "2025-07-29T13:00:31.707408Z",
     "shell.execute_reply": "2025-07-29T13:00:31.706846Z",
     "shell.execute_reply.started": "2025-07-29T13:00:31.518058Z"
    },
    "trusted": true
   },
   "outputs": [],
   "source": [
    "df_metadata = pd.read_csv(\"/kaggle/input/steam-store-games/steam.csv\")"
   ]
  },
  {
   "cell_type": "code",
   "execution_count": 10,
   "metadata": {
    "execution": {
     "iopub.execute_input": "2025-07-29T13:00:38.292976Z",
     "iopub.status.busy": "2025-07-29T13:00:38.292662Z",
     "iopub.status.idle": "2025-07-29T13:00:38.306750Z",
     "shell.execute_reply": "2025-07-29T13:00:38.305905Z",
     "shell.execute_reply.started": "2025-07-29T13:00:38.292945Z"
    },
    "trusted": true
   },
   "outputs": [
    {
     "data": {
      "text/html": [
       "<div>\n",
       "<style scoped>\n",
       "    .dataframe tbody tr th:only-of-type {\n",
       "        vertical-align: middle;\n",
       "    }\n",
       "\n",
       "    .dataframe tbody tr th {\n",
       "        vertical-align: top;\n",
       "    }\n",
       "\n",
       "    .dataframe thead th {\n",
       "        text-align: right;\n",
       "    }\n",
       "</style>\n",
       "<table border=\"1\" class=\"dataframe\">\n",
       "  <thead>\n",
       "    <tr style=\"text-align: right;\">\n",
       "      <th></th>\n",
       "      <th>appid</th>\n",
       "      <th>name</th>\n",
       "      <th>release_date</th>\n",
       "      <th>english</th>\n",
       "      <th>developer</th>\n",
       "      <th>publisher</th>\n",
       "      <th>platforms</th>\n",
       "      <th>required_age</th>\n",
       "      <th>categories</th>\n",
       "      <th>genres</th>\n",
       "      <th>steamspy_tags</th>\n",
       "      <th>achievements</th>\n",
       "      <th>positive_ratings</th>\n",
       "      <th>negative_ratings</th>\n",
       "      <th>average_playtime</th>\n",
       "      <th>median_playtime</th>\n",
       "      <th>owners</th>\n",
       "      <th>price</th>\n",
       "    </tr>\n",
       "  </thead>\n",
       "  <tbody>\n",
       "    <tr>\n",
       "      <th>0</th>\n",
       "      <td>10</td>\n",
       "      <td>Counter-Strike</td>\n",
       "      <td>2000-11-01</td>\n",
       "      <td>1</td>\n",
       "      <td>Valve</td>\n",
       "      <td>Valve</td>\n",
       "      <td>windows;mac;linux</td>\n",
       "      <td>0</td>\n",
       "      <td>Multi-player;Online Multi-Player;Local Multi-P...</td>\n",
       "      <td>Action</td>\n",
       "      <td>Action;FPS;Multiplayer</td>\n",
       "      <td>0</td>\n",
       "      <td>124534</td>\n",
       "      <td>3339</td>\n",
       "      <td>17612</td>\n",
       "      <td>317</td>\n",
       "      <td>10000000-20000000</td>\n",
       "      <td>7.19</td>\n",
       "    </tr>\n",
       "    <tr>\n",
       "      <th>1</th>\n",
       "      <td>20</td>\n",
       "      <td>Team Fortress Classic</td>\n",
       "      <td>1999-04-01</td>\n",
       "      <td>1</td>\n",
       "      <td>Valve</td>\n",
       "      <td>Valve</td>\n",
       "      <td>windows;mac;linux</td>\n",
       "      <td>0</td>\n",
       "      <td>Multi-player;Online Multi-Player;Local Multi-P...</td>\n",
       "      <td>Action</td>\n",
       "      <td>Action;FPS;Multiplayer</td>\n",
       "      <td>0</td>\n",
       "      <td>3318</td>\n",
       "      <td>633</td>\n",
       "      <td>277</td>\n",
       "      <td>62</td>\n",
       "      <td>5000000-10000000</td>\n",
       "      <td>3.99</td>\n",
       "    </tr>\n",
       "    <tr>\n",
       "      <th>2</th>\n",
       "      <td>30</td>\n",
       "      <td>Day of Defeat</td>\n",
       "      <td>2003-05-01</td>\n",
       "      <td>1</td>\n",
       "      <td>Valve</td>\n",
       "      <td>Valve</td>\n",
       "      <td>windows;mac;linux</td>\n",
       "      <td>0</td>\n",
       "      <td>Multi-player;Valve Anti-Cheat enabled</td>\n",
       "      <td>Action</td>\n",
       "      <td>FPS;World War II;Multiplayer</td>\n",
       "      <td>0</td>\n",
       "      <td>3416</td>\n",
       "      <td>398</td>\n",
       "      <td>187</td>\n",
       "      <td>34</td>\n",
       "      <td>5000000-10000000</td>\n",
       "      <td>3.99</td>\n",
       "    </tr>\n",
       "    <tr>\n",
       "      <th>3</th>\n",
       "      <td>40</td>\n",
       "      <td>Deathmatch Classic</td>\n",
       "      <td>2001-06-01</td>\n",
       "      <td>1</td>\n",
       "      <td>Valve</td>\n",
       "      <td>Valve</td>\n",
       "      <td>windows;mac;linux</td>\n",
       "      <td>0</td>\n",
       "      <td>Multi-player;Online Multi-Player;Local Multi-P...</td>\n",
       "      <td>Action</td>\n",
       "      <td>Action;FPS;Multiplayer</td>\n",
       "      <td>0</td>\n",
       "      <td>1273</td>\n",
       "      <td>267</td>\n",
       "      <td>258</td>\n",
       "      <td>184</td>\n",
       "      <td>5000000-10000000</td>\n",
       "      <td>3.99</td>\n",
       "    </tr>\n",
       "    <tr>\n",
       "      <th>4</th>\n",
       "      <td>50</td>\n",
       "      <td>Half-Life: Opposing Force</td>\n",
       "      <td>1999-11-01</td>\n",
       "      <td>1</td>\n",
       "      <td>Gearbox Software</td>\n",
       "      <td>Valve</td>\n",
       "      <td>windows;mac;linux</td>\n",
       "      <td>0</td>\n",
       "      <td>Single-player;Multi-player;Valve Anti-Cheat en...</td>\n",
       "      <td>Action</td>\n",
       "      <td>FPS;Action;Sci-fi</td>\n",
       "      <td>0</td>\n",
       "      <td>5250</td>\n",
       "      <td>288</td>\n",
       "      <td>624</td>\n",
       "      <td>415</td>\n",
       "      <td>5000000-10000000</td>\n",
       "      <td>3.99</td>\n",
       "    </tr>\n",
       "  </tbody>\n",
       "</table>\n",
       "</div>"
      ],
      "text/plain": [
       "   appid                       name release_date  english         developer  \\\n",
       "0     10             Counter-Strike   2000-11-01        1             Valve   \n",
       "1     20      Team Fortress Classic   1999-04-01        1             Valve   \n",
       "2     30              Day of Defeat   2003-05-01        1             Valve   \n",
       "3     40         Deathmatch Classic   2001-06-01        1             Valve   \n",
       "4     50  Half-Life: Opposing Force   1999-11-01        1  Gearbox Software   \n",
       "\n",
       "  publisher          platforms  required_age  \\\n",
       "0     Valve  windows;mac;linux             0   \n",
       "1     Valve  windows;mac;linux             0   \n",
       "2     Valve  windows;mac;linux             0   \n",
       "3     Valve  windows;mac;linux             0   \n",
       "4     Valve  windows;mac;linux             0   \n",
       "\n",
       "                                          categories  genres  \\\n",
       "0  Multi-player;Online Multi-Player;Local Multi-P...  Action   \n",
       "1  Multi-player;Online Multi-Player;Local Multi-P...  Action   \n",
       "2              Multi-player;Valve Anti-Cheat enabled  Action   \n",
       "3  Multi-player;Online Multi-Player;Local Multi-P...  Action   \n",
       "4  Single-player;Multi-player;Valve Anti-Cheat en...  Action   \n",
       "\n",
       "                  steamspy_tags  achievements  positive_ratings  \\\n",
       "0        Action;FPS;Multiplayer             0            124534   \n",
       "1        Action;FPS;Multiplayer             0              3318   \n",
       "2  FPS;World War II;Multiplayer             0              3416   \n",
       "3        Action;FPS;Multiplayer             0              1273   \n",
       "4             FPS;Action;Sci-fi             0              5250   \n",
       "\n",
       "   negative_ratings  average_playtime  median_playtime             owners  \\\n",
       "0              3339             17612              317  10000000-20000000   \n",
       "1               633               277               62   5000000-10000000   \n",
       "2               398               187               34   5000000-10000000   \n",
       "3               267               258              184   5000000-10000000   \n",
       "4               288               624              415   5000000-10000000   \n",
       "\n",
       "   price  \n",
       "0   7.19  \n",
       "1   3.99  \n",
       "2   3.99  \n",
       "3   3.99  \n",
       "4   3.99  "
      ]
     },
     "execution_count": 10,
     "metadata": {},
     "output_type": "execute_result"
    }
   ],
   "source": [
    "df_metadata.head()"
   ]
  },
  {
   "cell_type": "code",
   "execution_count": 11,
   "metadata": {
    "execution": {
     "iopub.execute_input": "2025-07-29T13:03:01.909066Z",
     "iopub.status.busy": "2025-07-29T13:03:01.908540Z",
     "iopub.status.idle": "2025-07-29T13:03:01.915839Z",
     "shell.execute_reply": "2025-07-29T13:03:01.914932Z",
     "shell.execute_reply.started": "2025-07-29T13:03:01.909041Z"
    },
    "trusted": true
   },
   "outputs": [],
   "source": [
    "# Assuming the metadata is in df_metadata\n",
    "# Select and rename columns for clarity\n",
    "df_game_info = df_metadata[['appid', 'name']].copy()\n",
    "df_game_info.rename(columns={'name': 'GameName'}, inplace=True)"
   ]
  },
  {
   "cell_type": "code",
   "execution_count": 12,
   "metadata": {
    "execution": {
     "iopub.execute_input": "2025-07-29T13:03:09.364715Z",
     "iopub.status.busy": "2025-07-29T13:03:09.364452Z",
     "iopub.status.idle": "2025-07-29T13:03:09.389327Z",
     "shell.execute_reply": "2025-07-29T13:03:09.388538Z",
     "shell.execute_reply.started": "2025-07-29T13:03:09.364695Z"
    },
    "trusted": true
   },
   "outputs": [],
   "source": [
    "df_merged = pd.merge(df_play, df_game_info, on='GameName', how='inner')"
   ]
  },
  {
   "cell_type": "code",
   "execution_count": 13,
   "metadata": {
    "execution": {
     "iopub.execute_input": "2025-07-29T13:03:15.387832Z",
     "iopub.status.busy": "2025-07-29T13:03:15.387534Z",
     "iopub.status.idle": "2025-07-29T13:03:15.396222Z",
     "shell.execute_reply": "2025-07-29T13:03:15.395680Z",
     "shell.execute_reply.started": "2025-07-29T13:03:15.387800Z"
    },
    "trusted": true
   },
   "outputs": [
    {
     "data": {
      "text/html": [
       "<div>\n",
       "<style scoped>\n",
       "    .dataframe tbody tr th:only-of-type {\n",
       "        vertical-align: middle;\n",
       "    }\n",
       "\n",
       "    .dataframe tbody tr th {\n",
       "        vertical-align: top;\n",
       "    }\n",
       "\n",
       "    .dataframe thead th {\n",
       "        text-align: right;\n",
       "    }\n",
       "</style>\n",
       "<table border=\"1\" class=\"dataframe\">\n",
       "  <thead>\n",
       "    <tr style=\"text-align: right;\">\n",
       "      <th></th>\n",
       "      <th>UserID</th>\n",
       "      <th>GameName</th>\n",
       "      <th>HoursPlayed</th>\n",
       "      <th>appid</th>\n",
       "    </tr>\n",
       "  </thead>\n",
       "  <tbody>\n",
       "    <tr>\n",
       "      <th>0</th>\n",
       "      <td>151603712</td>\n",
       "      <td>Fallout 4</td>\n",
       "      <td>87.0</td>\n",
       "      <td>377160</td>\n",
       "    </tr>\n",
       "    <tr>\n",
       "      <th>1</th>\n",
       "      <td>151603712</td>\n",
       "      <td>Left 4 Dead 2</td>\n",
       "      <td>8.9</td>\n",
       "      <td>550</td>\n",
       "    </tr>\n",
       "    <tr>\n",
       "      <th>2</th>\n",
       "      <td>151603712</td>\n",
       "      <td>HuniePop</td>\n",
       "      <td>8.5</td>\n",
       "      <td>339800</td>\n",
       "    </tr>\n",
       "    <tr>\n",
       "      <th>3</th>\n",
       "      <td>151603712</td>\n",
       "      <td>Path of Exile</td>\n",
       "      <td>8.1</td>\n",
       "      <td>238960</td>\n",
       "    </tr>\n",
       "    <tr>\n",
       "      <th>4</th>\n",
       "      <td>151603712</td>\n",
       "      <td>Poly Bridge</td>\n",
       "      <td>7.5</td>\n",
       "      <td>367450</td>\n",
       "    </tr>\n",
       "  </tbody>\n",
       "</table>\n",
       "</div>"
      ],
      "text/plain": [
       "      UserID       GameName  HoursPlayed   appid\n",
       "0  151603712      Fallout 4         87.0  377160\n",
       "1  151603712  Left 4 Dead 2          8.9     550\n",
       "2  151603712       HuniePop          8.5  339800\n",
       "3  151603712  Path of Exile          8.1  238960\n",
       "4  151603712    Poly Bridge          7.5  367450"
      ]
     },
     "execution_count": 13,
     "metadata": {},
     "output_type": "execute_result"
    }
   ],
   "source": [
    "df_merged.head()"
   ]
  },
  {
   "cell_type": "code",
   "execution_count": 14,
   "metadata": {
    "execution": {
     "iopub.execute_input": "2025-07-29T13:03:40.293304Z",
     "iopub.status.busy": "2025-07-29T13:03:40.292759Z",
     "iopub.status.idle": "2025-07-29T13:03:40.348233Z",
     "shell.execute_reply": "2025-07-29T13:03:40.347709Z",
     "shell.execute_reply.started": "2025-07-29T13:03:40.293282Z"
    },
    "trusted": true
   },
   "outputs": [],
   "source": [
    "df_merged['ImplicitRating'] = np.log1p(df_merged['HoursPlayed'])"
   ]
  },
  {
   "cell_type": "code",
   "execution_count": 15,
   "metadata": {
    "execution": {
     "iopub.execute_input": "2025-07-29T13:03:46.374034Z",
     "iopub.status.busy": "2025-07-29T13:03:46.373330Z",
     "iopub.status.idle": "2025-07-29T13:03:46.382532Z",
     "shell.execute_reply": "2025-07-29T13:03:46.381725Z",
     "shell.execute_reply.started": "2025-07-29T13:03:46.374009Z"
    },
    "trusted": true
   },
   "outputs": [
    {
     "data": {
      "text/html": [
       "<div>\n",
       "<style scoped>\n",
       "    .dataframe tbody tr th:only-of-type {\n",
       "        vertical-align: middle;\n",
       "    }\n",
       "\n",
       "    .dataframe tbody tr th {\n",
       "        vertical-align: top;\n",
       "    }\n",
       "\n",
       "    .dataframe thead th {\n",
       "        text-align: right;\n",
       "    }\n",
       "</style>\n",
       "<table border=\"1\" class=\"dataframe\">\n",
       "  <thead>\n",
       "    <tr style=\"text-align: right;\">\n",
       "      <th></th>\n",
       "      <th>UserID</th>\n",
       "      <th>GameName</th>\n",
       "      <th>HoursPlayed</th>\n",
       "      <th>appid</th>\n",
       "      <th>ImplicitRating</th>\n",
       "    </tr>\n",
       "  </thead>\n",
       "  <tbody>\n",
       "    <tr>\n",
       "      <th>0</th>\n",
       "      <td>151603712</td>\n",
       "      <td>Fallout 4</td>\n",
       "      <td>87.0</td>\n",
       "      <td>377160</td>\n",
       "      <td>4.477337</td>\n",
       "    </tr>\n",
       "    <tr>\n",
       "      <th>1</th>\n",
       "      <td>151603712</td>\n",
       "      <td>Left 4 Dead 2</td>\n",
       "      <td>8.9</td>\n",
       "      <td>550</td>\n",
       "      <td>2.292535</td>\n",
       "    </tr>\n",
       "    <tr>\n",
       "      <th>2</th>\n",
       "      <td>151603712</td>\n",
       "      <td>HuniePop</td>\n",
       "      <td>8.5</td>\n",
       "      <td>339800</td>\n",
       "      <td>2.251292</td>\n",
       "    </tr>\n",
       "    <tr>\n",
       "      <th>3</th>\n",
       "      <td>151603712</td>\n",
       "      <td>Path of Exile</td>\n",
       "      <td>8.1</td>\n",
       "      <td>238960</td>\n",
       "      <td>2.208274</td>\n",
       "    </tr>\n",
       "    <tr>\n",
       "      <th>4</th>\n",
       "      <td>151603712</td>\n",
       "      <td>Poly Bridge</td>\n",
       "      <td>7.5</td>\n",
       "      <td>367450</td>\n",
       "      <td>2.140066</td>\n",
       "    </tr>\n",
       "  </tbody>\n",
       "</table>\n",
       "</div>"
      ],
      "text/plain": [
       "      UserID       GameName  HoursPlayed   appid  ImplicitRating\n",
       "0  151603712      Fallout 4         87.0  377160        4.477337\n",
       "1  151603712  Left 4 Dead 2          8.9     550        2.292535\n",
       "2  151603712       HuniePop          8.5  339800        2.251292\n",
       "3  151603712  Path of Exile          8.1  238960        2.208274\n",
       "4  151603712    Poly Bridge          7.5  367450        2.140066"
      ]
     },
     "execution_count": 15,
     "metadata": {},
     "output_type": "execute_result"
    }
   ],
   "source": [
    "df_merged.head()"
   ]
  },
  {
   "cell_type": "code",
   "execution_count": null,
   "metadata": {
    "execution": {
     "iopub.execute_input": "2025-07-29T13:05:04.830137Z",
     "iopub.status.busy": "2025-07-29T13:05:04.829454Z",
     "iopub.status.idle": "2025-07-29T13:05:04.834598Z",
     "shell.execute_reply": "2025-07-29T13:05:04.834058Z",
     "shell.execute_reply.started": "2025-07-29T13:05:04.830112Z"
    },
    "trusted": true
   },
   "outputs": [],
   "source": [
    "df_merged.drop('GameName',axis=1, inplace=True)"
   ]
  },
  {
   "cell_type": "code",
   "execution_count": 18,
   "metadata": {
    "execution": {
     "iopub.execute_input": "2025-07-29T13:05:26.917585Z",
     "iopub.status.busy": "2025-07-29T13:05:26.916781Z",
     "iopub.status.idle": "2025-07-29T13:05:26.922035Z",
     "shell.execute_reply": "2025-07-29T13:05:26.921357Z",
     "shell.execute_reply.started": "2025-07-29T13:05:26.917553Z"
    },
    "trusted": true
   },
   "outputs": [],
   "source": [
    "df_merged.drop('HoursPlayed',axis=1, inplace=True)"
   ]
  },
  {
   "cell_type": "code",
   "execution_count": 19,
   "metadata": {
    "execution": {
     "iopub.execute_input": "2025-07-29T13:05:34.756168Z",
     "iopub.status.busy": "2025-07-29T13:05:34.755698Z",
     "iopub.status.idle": "2025-07-29T13:05:34.763499Z",
     "shell.execute_reply": "2025-07-29T13:05:34.762715Z",
     "shell.execute_reply.started": "2025-07-29T13:05:34.756144Z"
    },
    "trusted": true
   },
   "outputs": [
    {
     "data": {
      "text/html": [
       "<div>\n",
       "<style scoped>\n",
       "    .dataframe tbody tr th:only-of-type {\n",
       "        vertical-align: middle;\n",
       "    }\n",
       "\n",
       "    .dataframe tbody tr th {\n",
       "        vertical-align: top;\n",
       "    }\n",
       "\n",
       "    .dataframe thead th {\n",
       "        text-align: right;\n",
       "    }\n",
       "</style>\n",
       "<table border=\"1\" class=\"dataframe\">\n",
       "  <thead>\n",
       "    <tr style=\"text-align: right;\">\n",
       "      <th></th>\n",
       "      <th>UserID</th>\n",
       "      <th>appid</th>\n",
       "      <th>ImplicitRating</th>\n",
       "    </tr>\n",
       "  </thead>\n",
       "  <tbody>\n",
       "    <tr>\n",
       "      <th>0</th>\n",
       "      <td>151603712</td>\n",
       "      <td>377160</td>\n",
       "      <td>4.477337</td>\n",
       "    </tr>\n",
       "    <tr>\n",
       "      <th>1</th>\n",
       "      <td>151603712</td>\n",
       "      <td>550</td>\n",
       "      <td>2.292535</td>\n",
       "    </tr>\n",
       "    <tr>\n",
       "      <th>2</th>\n",
       "      <td>151603712</td>\n",
       "      <td>339800</td>\n",
       "      <td>2.251292</td>\n",
       "    </tr>\n",
       "    <tr>\n",
       "      <th>3</th>\n",
       "      <td>151603712</td>\n",
       "      <td>238960</td>\n",
       "      <td>2.208274</td>\n",
       "    </tr>\n",
       "    <tr>\n",
       "      <th>4</th>\n",
       "      <td>151603712</td>\n",
       "      <td>367450</td>\n",
       "      <td>2.140066</td>\n",
       "    </tr>\n",
       "  </tbody>\n",
       "</table>\n",
       "</div>"
      ],
      "text/plain": [
       "      UserID   appid  ImplicitRating\n",
       "0  151603712  377160        4.477337\n",
       "1  151603712     550        2.292535\n",
       "2  151603712  339800        2.251292\n",
       "3  151603712  238960        2.208274\n",
       "4  151603712  367450        2.140066"
      ]
     },
     "execution_count": 19,
     "metadata": {},
     "output_type": "execute_result"
    }
   ],
   "source": [
    "df_merged.head()"
   ]
  },
  {
   "cell_type": "markdown",
   "metadata": {},
   "source": [
    "# --- 2. Encode Users and Games ---"
   ]
  },
  {
   "cell_type": "code",
   "execution_count": 20,
   "metadata": {
    "execution": {
     "iopub.execute_input": "2025-07-29T13:06:15.044964Z",
     "iopub.status.busy": "2025-07-29T13:06:15.044706Z",
     "iopub.status.idle": "2025-07-29T13:06:15.060905Z",
     "shell.execute_reply": "2025-07-29T13:06:15.060261Z",
     "shell.execute_reply.started": "2025-07-29T13:06:15.044944Z"
    },
    "trusted": true
   },
   "outputs": [],
   "source": [
    "user_ids = df_merged[\"UserID\"].unique().tolist()\n",
    "user_to_encoded = {x: i for i, x in enumerate(user_ids)}\n",
    "encoded_to_user = {i: x for i, x in enumerate(user_ids)}\n",
    "df_merged[\"user_encoded\"] = df_merged[\"UserID\"].map(user_to_encoded)"
   ]
  },
  {
   "cell_type": "code",
   "execution_count": 21,
   "metadata": {
    "execution": {
     "iopub.execute_input": "2025-07-29T13:06:25.247314Z",
     "iopub.status.busy": "2025-07-29T13:06:25.246607Z",
     "iopub.status.idle": "2025-07-29T13:06:25.254606Z",
     "shell.execute_reply": "2025-07-29T13:06:25.253947Z",
     "shell.execute_reply.started": "2025-07-29T13:06:25.247294Z"
    },
    "trusted": true
   },
   "outputs": [],
   "source": [
    "game_ids = df_merged[\"appid\"].unique().tolist()\n",
    "game_to_encoded = {x: i for i, x in enumerate(game_ids)}\n",
    "encoded_to_game = {i: x for i, x in enumerate(game_ids)}\n",
    "df_merged[\"game_encoded\"] = df_merged[\"appid\"].map(game_to_encoded)"
   ]
  },
  {
   "cell_type": "code",
   "execution_count": 22,
   "metadata": {
    "execution": {
     "iopub.execute_input": "2025-07-29T13:06:32.301558Z",
     "iopub.status.busy": "2025-07-29T13:06:32.300875Z",
     "iopub.status.idle": "2025-07-29T13:06:32.304905Z",
     "shell.execute_reply": "2025-07-29T13:06:32.304203Z",
     "shell.execute_reply.started": "2025-07-29T13:06:32.301536Z"
    },
    "trusted": true
   },
   "outputs": [],
   "source": [
    "n_users = len(user_to_encoded)\n",
    "n_games = len(game_to_encoded)"
   ]
  },
  {
   "cell_type": "code",
   "execution_count": 23,
   "metadata": {
    "execution": {
     "iopub.execute_input": "2025-07-29T13:06:41.524529Z",
     "iopub.status.busy": "2025-07-29T13:06:41.524248Z",
     "iopub.status.idle": "2025-07-29T13:06:41.528588Z",
     "shell.execute_reply": "2025-07-29T13:06:41.527927Z",
     "shell.execute_reply.started": "2025-07-29T13:06:41.524506Z"
    },
    "trusted": true
   },
   "outputs": [
    {
     "name": "stdout",
     "output_type": "stream",
     "text": [
      "Number of Users: 9248\n",
      "Number of Games: 1724\n"
     ]
    }
   ],
   "source": [
    "print(f\"Number of Users: {n_users}\")\n",
    "print(f\"Number of Games: {n_games}\")"
   ]
  },
  {
   "cell_type": "markdown",
   "metadata": {},
   "source": [
    "# --- 3. Normalize Ratings ---\n"
   ]
  },
  {
   "cell_type": "code",
   "execution_count": 24,
   "metadata": {
    "execution": {
     "iopub.execute_input": "2025-07-29T13:07:13.342645Z",
     "iopub.status.busy": "2025-07-29T13:07:13.342327Z",
     "iopub.status.idle": "2025-07-29T13:11:51.268237Z",
     "shell.execute_reply": "2025-07-29T13:11:51.267698Z",
     "shell.execute_reply.started": "2025-07-29T13:07:13.342625Z"
    },
    "trusted": true
   },
   "outputs": [],
   "source": [
    "df_merged[\"rating_normalized\"] = df_merged[\"ImplicitRating\"].apply(\n",
    "    lambda x: (x - min(df_merged[\"ImplicitRating\"])) / (max(df_merged[\"ImplicitRating\"]) - min(df_merged[\"ImplicitRating\"]))\n",
    ").values"
   ]
  },
  {
   "cell_type": "code",
   "execution_count": 27,
   "metadata": {
    "execution": {
     "iopub.execute_input": "2025-07-29T13:13:38.527185Z",
     "iopub.status.busy": "2025-07-29T13:13:38.526574Z",
     "iopub.status.idle": "2025-07-29T13:13:38.535667Z",
     "shell.execute_reply": "2025-07-29T13:13:38.534963Z",
     "shell.execute_reply.started": "2025-07-29T13:13:38.527162Z"
    },
    "trusted": true
   },
   "outputs": [
    {
     "data": {
      "text/html": [
       "<div>\n",
       "<style scoped>\n",
       "    .dataframe tbody tr th:only-of-type {\n",
       "        vertical-align: middle;\n",
       "    }\n",
       "\n",
       "    .dataframe tbody tr th {\n",
       "        vertical-align: top;\n",
       "    }\n",
       "\n",
       "    .dataframe thead th {\n",
       "        text-align: right;\n",
       "    }\n",
       "</style>\n",
       "<table border=\"1\" class=\"dataframe\">\n",
       "  <thead>\n",
       "    <tr style=\"text-align: right;\">\n",
       "      <th></th>\n",
       "      <th>UserID</th>\n",
       "      <th>appid</th>\n",
       "      <th>ImplicitRating</th>\n",
       "      <th>user_encoded</th>\n",
       "      <th>game_encoded</th>\n",
       "      <th>rating_normalized</th>\n",
       "    </tr>\n",
       "  </thead>\n",
       "  <tbody>\n",
       "    <tr>\n",
       "      <th>0</th>\n",
       "      <td>151603712</td>\n",
       "      <td>377160</td>\n",
       "      <td>4.477337</td>\n",
       "      <td>0</td>\n",
       "      <td>0</td>\n",
       "      <td>0.478472</td>\n",
       "    </tr>\n",
       "    <tr>\n",
       "      <th>1</th>\n",
       "      <td>151603712</td>\n",
       "      <td>550</td>\n",
       "      <td>2.292535</td>\n",
       "      <td>0</td>\n",
       "      <td>1</td>\n",
       "      <td>0.239914</td>\n",
       "    </tr>\n",
       "    <tr>\n",
       "      <th>2</th>\n",
       "      <td>151603712</td>\n",
       "      <td>339800</td>\n",
       "      <td>2.251292</td>\n",
       "      <td>0</td>\n",
       "      <td>2</td>\n",
       "      <td>0.235411</td>\n",
       "    </tr>\n",
       "    <tr>\n",
       "      <th>3</th>\n",
       "      <td>151603712</td>\n",
       "      <td>238960</td>\n",
       "      <td>2.208274</td>\n",
       "      <td>0</td>\n",
       "      <td>3</td>\n",
       "      <td>0.230714</td>\n",
       "    </tr>\n",
       "    <tr>\n",
       "      <th>4</th>\n",
       "      <td>151603712</td>\n",
       "      <td>367450</td>\n",
       "      <td>2.140066</td>\n",
       "      <td>0</td>\n",
       "      <td>4</td>\n",
       "      <td>0.223266</td>\n",
       "    </tr>\n",
       "  </tbody>\n",
       "</table>\n",
       "</div>"
      ],
      "text/plain": [
       "      UserID   appid  ImplicitRating  user_encoded  game_encoded  \\\n",
       "0  151603712  377160        4.477337             0             0   \n",
       "1  151603712     550        2.292535             0             1   \n",
       "2  151603712  339800        2.251292             0             2   \n",
       "3  151603712  238960        2.208274             0             3   \n",
       "4  151603712  367450        2.140066             0             4   \n",
       "\n",
       "   rating_normalized  \n",
       "0           0.478472  \n",
       "1           0.239914  \n",
       "2           0.235411  \n",
       "3           0.230714  \n",
       "4           0.223266  "
      ]
     },
     "execution_count": 27,
     "metadata": {},
     "output_type": "execute_result"
    }
   ],
   "source": [
    "df_merged.head()"
   ]
  },
  {
   "cell_type": "markdown",
   "metadata": {},
   "source": [
    "# --- 4. Create Training and Testing Sets ---\n"
   ]
  },
  {
   "cell_type": "code",
   "execution_count": 25,
   "metadata": {
    "execution": {
     "iopub.execute_input": "2025-07-29T13:12:53.030361Z",
     "iopub.status.busy": "2025-07-29T13:12:53.029612Z",
     "iopub.status.idle": "2025-07-29T13:12:53.035300Z",
     "shell.execute_reply": "2025-07-29T13:12:53.034731Z",
     "shell.execute_reply.started": "2025-07-29T13:12:53.030336Z"
    },
    "trusted": true
   },
   "outputs": [],
   "source": [
    "X = df_merged[[\"user_encoded\", \"game_encoded\"]].values\n",
    "y = df_merged[\"rating_normalized\"].values"
   ]
  },
  {
   "cell_type": "code",
   "execution_count": 35,
   "metadata": {
    "execution": {
     "iopub.execute_input": "2025-07-29T13:35:37.512642Z",
     "iopub.status.busy": "2025-07-29T13:35:37.512026Z",
     "iopub.status.idle": "2025-07-29T13:35:37.520753Z",
     "shell.execute_reply": "2025-07-29T13:35:37.520148Z",
     "shell.execute_reply.started": "2025-07-29T13:35:37.512618Z"
    },
    "trusted": true
   },
   "outputs": [
    {
     "name": "stdout",
     "output_type": "stream",
     "text": [
      "\n",
      "Data preprocessing complete.\n",
      "Train samples: 29041\n",
      "Test samples: 7261\n"
     ]
    }
   ],
   "source": [
    "X_train, X_test, y_train, y_test = train_test_split(X, y, test_size=0.2, random_state=42)\n",
    "\n",
    "print(\"\\nData preprocessing complete.\")\n",
    "print(f\"Train samples: {len(X_train)}\")\n",
    "print(f\"Test samples: {len(X_test)}\")"
   ]
  },
  {
   "cell_type": "code",
   "execution_count": 36,
   "metadata": {
    "execution": {
     "iopub.execute_input": "2025-07-29T13:35:39.112685Z",
     "iopub.status.busy": "2025-07-29T13:35:39.111972Z",
     "iopub.status.idle": "2025-07-29T13:35:39.118117Z",
     "shell.execute_reply": "2025-07-29T13:35:39.117282Z",
     "shell.execute_reply.started": "2025-07-29T13:35:39.112661Z"
    },
    "trusted": true
   },
   "outputs": [],
   "source": [
    "def RecommenderNet(n_users, n_games, embedding_dim=128):\n",
    "    \"\"\"\n",
    "    Defines the matrix factorization model using Keras.\n",
    "    \"\"\"\n",
    "    user_input = Input(shape=[1], name=\"user_input\")\n",
    "    user_embedding = Embedding(n_users, embedding_dim, name=\"user_embedding\")(user_input)\n",
    "    user_vec = Flatten(name=\"flatten_user\")(user_embedding)\n",
    "\n",
    "    game_input = Input(shape=[1], name=\"game_input\")\n",
    "    game_embedding = Embedding(n_games, embedding_dim, name=\"game_embedding\")(game_input)\n",
    "    game_vec = Flatten(name=\"flatten_game\")(game_embedding)\n",
    "\n",
    "    dot_product = Dot(axes=1, name=\"dot_product\")([user_vec, game_vec])\n",
    "\n",
    "    output = Dense(1, activation=\"sigmoid\", name=\"output\")(dot_product)\n",
    "\n",
    "    model = Model(inputs=[user_input, game_input], outputs=output)\n",
    "    return model"
   ]
  },
  {
   "cell_type": "code",
   "execution_count": 37,
   "metadata": {
    "execution": {
     "iopub.execute_input": "2025-07-29T13:35:41.041866Z",
     "iopub.status.busy": "2025-07-29T13:35:41.041567Z",
     "iopub.status.idle": "2025-07-29T13:35:41.080811Z",
     "shell.execute_reply": "2025-07-29T13:35:41.080257Z",
     "shell.execute_reply.started": "2025-07-29T13:35:41.041846Z"
    },
    "trusted": true
   },
   "outputs": [
    {
     "data": {
      "text/html": [
       "<pre style=\"white-space:pre;overflow-x:auto;line-height:normal;font-family:Menlo,'DejaVu Sans Mono',consolas,'Courier New',monospace\"><span style=\"font-weight: bold\">Model: \"functional_1\"</span>\n",
       "</pre>\n"
      ],
      "text/plain": [
       "\u001b[1mModel: \"functional_1\"\u001b[0m\n"
      ]
     },
     "metadata": {},
     "output_type": "display_data"
    },
    {
     "data": {
      "text/html": [
       "<pre style=\"white-space:pre;overflow-x:auto;line-height:normal;font-family:Menlo,'DejaVu Sans Mono',consolas,'Courier New',monospace\">┏━━━━━━━━━━━━━━━━━━━━━┳━━━━━━━━━━━━━━━━━━━┳━━━━━━━━━━━━┳━━━━━━━━━━━━━━━━━━━┓\n",
       "┃<span style=\"font-weight: bold\"> Layer (type)        </span>┃<span style=\"font-weight: bold\"> Output Shape      </span>┃<span style=\"font-weight: bold\">    Param # </span>┃<span style=\"font-weight: bold\"> Connected to      </span>┃\n",
       "┡━━━━━━━━━━━━━━━━━━━━━╇━━━━━━━━━━━━━━━━━━━╇━━━━━━━━━━━━╇━━━━━━━━━━━━━━━━━━━┩\n",
       "│ user_input          │ (<span style=\"color: #00d7ff; text-decoration-color: #00d7ff\">None</span>, <span style=\"color: #00af00; text-decoration-color: #00af00\">1</span>)         │          <span style=\"color: #00af00; text-decoration-color: #00af00\">0</span> │ -                 │\n",
       "│ (<span style=\"color: #0087ff; text-decoration-color: #0087ff\">InputLayer</span>)        │                   │            │                   │\n",
       "├─────────────────────┼───────────────────┼────────────┼───────────────────┤\n",
       "│ game_input          │ (<span style=\"color: #00d7ff; text-decoration-color: #00d7ff\">None</span>, <span style=\"color: #00af00; text-decoration-color: #00af00\">1</span>)         │          <span style=\"color: #00af00; text-decoration-color: #00af00\">0</span> │ -                 │\n",
       "│ (<span style=\"color: #0087ff; text-decoration-color: #0087ff\">InputLayer</span>)        │                   │            │                   │\n",
       "├─────────────────────┼───────────────────┼────────────┼───────────────────┤\n",
       "│ user_embedding      │ (<span style=\"color: #00d7ff; text-decoration-color: #00d7ff\">None</span>, <span style=\"color: #00af00; text-decoration-color: #00af00\">1</span>, <span style=\"color: #00af00; text-decoration-color: #00af00\">128</span>)    │  <span style=\"color: #00af00; text-decoration-color: #00af00\">1,183,744</span> │ user_input[<span style=\"color: #00af00; text-decoration-color: #00af00\">0</span>][<span style=\"color: #00af00; text-decoration-color: #00af00\">0</span>]  │\n",
       "│ (<span style=\"color: #0087ff; text-decoration-color: #0087ff\">Embedding</span>)         │                   │            │                   │\n",
       "├─────────────────────┼───────────────────┼────────────┼───────────────────┤\n",
       "│ game_embedding      │ (<span style=\"color: #00d7ff; text-decoration-color: #00d7ff\">None</span>, <span style=\"color: #00af00; text-decoration-color: #00af00\">1</span>, <span style=\"color: #00af00; text-decoration-color: #00af00\">128</span>)    │    <span style=\"color: #00af00; text-decoration-color: #00af00\">220,672</span> │ game_input[<span style=\"color: #00af00; text-decoration-color: #00af00\">0</span>][<span style=\"color: #00af00; text-decoration-color: #00af00\">0</span>]  │\n",
       "│ (<span style=\"color: #0087ff; text-decoration-color: #0087ff\">Embedding</span>)         │                   │            │                   │\n",
       "├─────────────────────┼───────────────────┼────────────┼───────────────────┤\n",
       "│ flatten_user        │ (<span style=\"color: #00d7ff; text-decoration-color: #00d7ff\">None</span>, <span style=\"color: #00af00; text-decoration-color: #00af00\">128</span>)       │          <span style=\"color: #00af00; text-decoration-color: #00af00\">0</span> │ user_embedding[<span style=\"color: #00af00; text-decoration-color: #00af00\">0</span>… │\n",
       "│ (<span style=\"color: #0087ff; text-decoration-color: #0087ff\">Flatten</span>)           │                   │            │                   │\n",
       "├─────────────────────┼───────────────────┼────────────┼───────────────────┤\n",
       "│ flatten_game        │ (<span style=\"color: #00d7ff; text-decoration-color: #00d7ff\">None</span>, <span style=\"color: #00af00; text-decoration-color: #00af00\">128</span>)       │          <span style=\"color: #00af00; text-decoration-color: #00af00\">0</span> │ game_embedding[<span style=\"color: #00af00; text-decoration-color: #00af00\">0</span>… │\n",
       "│ (<span style=\"color: #0087ff; text-decoration-color: #0087ff\">Flatten</span>)           │                   │            │                   │\n",
       "├─────────────────────┼───────────────────┼────────────┼───────────────────┤\n",
       "│ dot_product (<span style=\"color: #0087ff; text-decoration-color: #0087ff\">Dot</span>)   │ (<span style=\"color: #00d7ff; text-decoration-color: #00d7ff\">None</span>, <span style=\"color: #00af00; text-decoration-color: #00af00\">1</span>)         │          <span style=\"color: #00af00; text-decoration-color: #00af00\">0</span> │ flatten_user[<span style=\"color: #00af00; text-decoration-color: #00af00\">0</span>][<span style=\"color: #00af00; text-decoration-color: #00af00\">…</span> │\n",
       "│                     │                   │            │ flatten_game[<span style=\"color: #00af00; text-decoration-color: #00af00\">0</span>][<span style=\"color: #00af00; text-decoration-color: #00af00\">…</span> │\n",
       "├─────────────────────┼───────────────────┼────────────┼───────────────────┤\n",
       "│ output (<span style=\"color: #0087ff; text-decoration-color: #0087ff\">Dense</span>)      │ (<span style=\"color: #00d7ff; text-decoration-color: #00d7ff\">None</span>, <span style=\"color: #00af00; text-decoration-color: #00af00\">1</span>)         │          <span style=\"color: #00af00; text-decoration-color: #00af00\">2</span> │ dot_product[<span style=\"color: #00af00; text-decoration-color: #00af00\">0</span>][<span style=\"color: #00af00; text-decoration-color: #00af00\">0</span>] │\n",
       "└─────────────────────┴───────────────────┴────────────┴───────────────────┘\n",
       "</pre>\n"
      ],
      "text/plain": [
       "┏━━━━━━━━━━━━━━━━━━━━━┳━━━━━━━━━━━━━━━━━━━┳━━━━━━━━━━━━┳━━━━━━━━━━━━━━━━━━━┓\n",
       "┃\u001b[1m \u001b[0m\u001b[1mLayer (type)       \u001b[0m\u001b[1m \u001b[0m┃\u001b[1m \u001b[0m\u001b[1mOutput Shape     \u001b[0m\u001b[1m \u001b[0m┃\u001b[1m \u001b[0m\u001b[1m   Param #\u001b[0m\u001b[1m \u001b[0m┃\u001b[1m \u001b[0m\u001b[1mConnected to     \u001b[0m\u001b[1m \u001b[0m┃\n",
       "┡━━━━━━━━━━━━━━━━━━━━━╇━━━━━━━━━━━━━━━━━━━╇━━━━━━━━━━━━╇━━━━━━━━━━━━━━━━━━━┩\n",
       "│ user_input          │ (\u001b[38;5;45mNone\u001b[0m, \u001b[38;5;34m1\u001b[0m)         │          \u001b[38;5;34m0\u001b[0m │ -                 │\n",
       "│ (\u001b[38;5;33mInputLayer\u001b[0m)        │                   │            │                   │\n",
       "├─────────────────────┼───────────────────┼────────────┼───────────────────┤\n",
       "│ game_input          │ (\u001b[38;5;45mNone\u001b[0m, \u001b[38;5;34m1\u001b[0m)         │          \u001b[38;5;34m0\u001b[0m │ -                 │\n",
       "│ (\u001b[38;5;33mInputLayer\u001b[0m)        │                   │            │                   │\n",
       "├─────────────────────┼───────────────────┼────────────┼───────────────────┤\n",
       "│ user_embedding      │ (\u001b[38;5;45mNone\u001b[0m, \u001b[38;5;34m1\u001b[0m, \u001b[38;5;34m128\u001b[0m)    │  \u001b[38;5;34m1,183,744\u001b[0m │ user_input[\u001b[38;5;34m0\u001b[0m][\u001b[38;5;34m0\u001b[0m]  │\n",
       "│ (\u001b[38;5;33mEmbedding\u001b[0m)         │                   │            │                   │\n",
       "├─────────────────────┼───────────────────┼────────────┼───────────────────┤\n",
       "│ game_embedding      │ (\u001b[38;5;45mNone\u001b[0m, \u001b[38;5;34m1\u001b[0m, \u001b[38;5;34m128\u001b[0m)    │    \u001b[38;5;34m220,672\u001b[0m │ game_input[\u001b[38;5;34m0\u001b[0m][\u001b[38;5;34m0\u001b[0m]  │\n",
       "│ (\u001b[38;5;33mEmbedding\u001b[0m)         │                   │            │                   │\n",
       "├─────────────────────┼───────────────────┼────────────┼───────────────────┤\n",
       "│ flatten_user        │ (\u001b[38;5;45mNone\u001b[0m, \u001b[38;5;34m128\u001b[0m)       │          \u001b[38;5;34m0\u001b[0m │ user_embedding[\u001b[38;5;34m0\u001b[0m… │\n",
       "│ (\u001b[38;5;33mFlatten\u001b[0m)           │                   │            │                   │\n",
       "├─────────────────────┼───────────────────┼────────────┼───────────────────┤\n",
       "│ flatten_game        │ (\u001b[38;5;45mNone\u001b[0m, \u001b[38;5;34m128\u001b[0m)       │          \u001b[38;5;34m0\u001b[0m │ game_embedding[\u001b[38;5;34m0\u001b[0m… │\n",
       "│ (\u001b[38;5;33mFlatten\u001b[0m)           │                   │            │                   │\n",
       "├─────────────────────┼───────────────────┼────────────┼───────────────────┤\n",
       "│ dot_product (\u001b[38;5;33mDot\u001b[0m)   │ (\u001b[38;5;45mNone\u001b[0m, \u001b[38;5;34m1\u001b[0m)         │          \u001b[38;5;34m0\u001b[0m │ flatten_user[\u001b[38;5;34m0\u001b[0m][\u001b[38;5;34m…\u001b[0m │\n",
       "│                     │                   │            │ flatten_game[\u001b[38;5;34m0\u001b[0m][\u001b[38;5;34m…\u001b[0m │\n",
       "├─────────────────────┼───────────────────┼────────────┼───────────────────┤\n",
       "│ output (\u001b[38;5;33mDense\u001b[0m)      │ (\u001b[38;5;45mNone\u001b[0m, \u001b[38;5;34m1\u001b[0m)         │          \u001b[38;5;34m2\u001b[0m │ dot_product[\u001b[38;5;34m0\u001b[0m][\u001b[38;5;34m0\u001b[0m] │\n",
       "└─────────────────────┴───────────────────┴────────────┴───────────────────┘\n"
      ]
     },
     "metadata": {},
     "output_type": "display_data"
    },
    {
     "data": {
      "text/html": [
       "<pre style=\"white-space:pre;overflow-x:auto;line-height:normal;font-family:Menlo,'DejaVu Sans Mono',consolas,'Courier New',monospace\"><span style=\"font-weight: bold\"> Total params: </span><span style=\"color: #00af00; text-decoration-color: #00af00\">1,404,418</span> (5.36 MB)\n",
       "</pre>\n"
      ],
      "text/plain": [
       "\u001b[1m Total params: \u001b[0m\u001b[38;5;34m1,404,418\u001b[0m (5.36 MB)\n"
      ]
     },
     "metadata": {},
     "output_type": "display_data"
    },
    {
     "data": {
      "text/html": [
       "<pre style=\"white-space:pre;overflow-x:auto;line-height:normal;font-family:Menlo,'DejaVu Sans Mono',consolas,'Courier New',monospace\"><span style=\"font-weight: bold\"> Trainable params: </span><span style=\"color: #00af00; text-decoration-color: #00af00\">1,404,418</span> (5.36 MB)\n",
       "</pre>\n"
      ],
      "text/plain": [
       "\u001b[1m Trainable params: \u001b[0m\u001b[38;5;34m1,404,418\u001b[0m (5.36 MB)\n"
      ]
     },
     "metadata": {},
     "output_type": "display_data"
    },
    {
     "data": {
      "text/html": [
       "<pre style=\"white-space:pre;overflow-x:auto;line-height:normal;font-family:Menlo,'DejaVu Sans Mono',consolas,'Courier New',monospace\"><span style=\"font-weight: bold\"> Non-trainable params: </span><span style=\"color: #00af00; text-decoration-color: #00af00\">0</span> (0.00 B)\n",
       "</pre>\n"
      ],
      "text/plain": [
       "\u001b[1m Non-trainable params: \u001b[0m\u001b[38;5;34m0\u001b[0m (0.00 B)\n"
      ]
     },
     "metadata": {},
     "output_type": "display_data"
    }
   ],
   "source": [
    "model = RecommenderNet(n_users, n_games, embedding_dim=128)\n",
    "model.compile(\n",
    "    loss='binary_crossentropy',\n",
    "    optimizer=Adam(learning_rate=0.001),\n",
    "    metrics=['mae']  # Mean Absolute Error\n",
    ")\n",
    "\n",
    "model.summary()"
   ]
  },
  {
   "cell_type": "code",
   "execution_count": 38,
   "metadata": {
    "execution": {
     "iopub.execute_input": "2025-07-29T13:35:47.446813Z",
     "iopub.status.busy": "2025-07-29T13:35:47.446518Z",
     "iopub.status.idle": "2025-07-29T13:36:14.506743Z",
     "shell.execute_reply": "2025-07-29T13:36:14.506128Z",
     "shell.execute_reply.started": "2025-07-29T13:35:47.446792Z"
    },
    "trusted": true
   },
   "outputs": [
    {
     "name": "stdout",
     "output_type": "stream",
     "text": [
      "Epoch 1/20\n",
      "\u001b[1m454/454\u001b[0m \u001b[32m━━━━━━━━━━━━━━━━━━━━\u001b[0m\u001b[37m\u001b[0m \u001b[1m4s\u001b[0m 5ms/step - loss: 0.6639 - mae: 0.2867 - val_loss: 0.5894 - val_mae: 0.2279\n",
      "Epoch 2/20\n",
      "\u001b[1m454/454\u001b[0m \u001b[32m━━━━━━━━━━━━━━━━━━━━\u001b[0m\u001b[37m\u001b[0m \u001b[1m1s\u001b[0m 3ms/step - loss: 0.5447 - mae: 0.1801 - val_loss: 0.5239 - val_mae: 0.1595\n",
      "Epoch 3/20\n",
      "\u001b[1m454/454\u001b[0m \u001b[32m━━━━━━━━━━━━━━━━━━━━\u001b[0m\u001b[37m\u001b[0m \u001b[1m1s\u001b[0m 3ms/step - loss: 0.4602 - mae: 0.0844 - val_loss: 0.5160 - val_mae: 0.1509\n",
      "Epoch 4/20\n",
      "\u001b[1m454/454\u001b[0m \u001b[32m━━━━━━━━━━━━━━━━━━━━\u001b[0m\u001b[37m\u001b[0m \u001b[1m1s\u001b[0m 3ms/step - loss: 0.4346 - mae: 0.0466 - val_loss: 0.5162 - val_mae: 0.1506\n",
      "Epoch 5/20\n",
      "\u001b[1m454/454\u001b[0m \u001b[32m━━━━━━━━━━━━━━━━━━━━\u001b[0m\u001b[37m\u001b[0m \u001b[1m1s\u001b[0m 3ms/step - loss: 0.4261 - mae: 0.0310 - val_loss: 0.5162 - val_mae: 0.1502\n",
      "Epoch 6/20\n",
      "\u001b[1m454/454\u001b[0m \u001b[32m━━━━━━━━━━━━━━━━━━━━\u001b[0m\u001b[37m\u001b[0m \u001b[1m1s\u001b[0m 3ms/step - loss: 0.4258 - mae: 0.0248 - val_loss: 0.5165 - val_mae: 0.1502\n",
      "Epoch 7/20\n",
      "\u001b[1m454/454\u001b[0m \u001b[32m━━━━━━━━━━━━━━━━━━━━\u001b[0m\u001b[37m\u001b[0m \u001b[1m1s\u001b[0m 3ms/step - loss: 0.4250 - mae: 0.0230 - val_loss: 0.5162 - val_mae: 0.1497\n",
      "Epoch 8/20\n",
      "\u001b[1m454/454\u001b[0m \u001b[32m━━━━━━━━━━━━━━━━━━━━\u001b[0m\u001b[37m\u001b[0m \u001b[1m1s\u001b[0m 3ms/step - loss: 0.4216 - mae: 0.0224 - val_loss: 0.5164 - val_mae: 0.1498\n",
      "Epoch 9/20\n",
      "\u001b[1m454/454\u001b[0m \u001b[32m━━━━━━━━━━━━━━━━━━━━\u001b[0m\u001b[37m\u001b[0m \u001b[1m1s\u001b[0m 3ms/step - loss: 0.4232 - mae: 0.0234 - val_loss: 0.5160 - val_mae: 0.1492\n",
      "Epoch 10/20\n",
      "\u001b[1m454/454\u001b[0m \u001b[32m━━━━━━━━━━━━━━━━━━━━\u001b[0m\u001b[37m\u001b[0m \u001b[1m1s\u001b[0m 3ms/step - loss: 0.4230 - mae: 0.0243 - val_loss: 0.5153 - val_mae: 0.1484\n",
      "Epoch 11/20\n",
      "\u001b[1m454/454\u001b[0m \u001b[32m━━━━━━━━━━━━━━━━━━━━\u001b[0m\u001b[37m\u001b[0m \u001b[1m1s\u001b[0m 3ms/step - loss: 0.4222 - mae: 0.0250 - val_loss: 0.5150 - val_mae: 0.1481\n",
      "Epoch 12/20\n",
      "\u001b[1m454/454\u001b[0m \u001b[32m━━━━━━━━━━━━━━━━━━━━\u001b[0m\u001b[37m\u001b[0m \u001b[1m1s\u001b[0m 3ms/step - loss: 0.4203 - mae: 0.0239 - val_loss: 0.5140 - val_mae: 0.1472\n",
      "Epoch 13/20\n",
      "\u001b[1m454/454\u001b[0m \u001b[32m━━━━━━━━━━━━━━━━━━━━\u001b[0m\u001b[37m\u001b[0m \u001b[1m1s\u001b[0m 3ms/step - loss: 0.4235 - mae: 0.0226 - val_loss: 0.5142 - val_mae: 0.1471\n",
      "Epoch 14/20\n",
      "\u001b[1m454/454\u001b[0m \u001b[32m━━━━━━━━━━━━━━━━━━━━\u001b[0m\u001b[37m\u001b[0m \u001b[1m1s\u001b[0m 3ms/step - loss: 0.4194 - mae: 0.0219 - val_loss: 0.5134 - val_mae: 0.1463\n",
      "Epoch 15/20\n",
      "\u001b[1m454/454\u001b[0m \u001b[32m━━━━━━━━━━━━━━━━━━━━\u001b[0m\u001b[37m\u001b[0m \u001b[1m1s\u001b[0m 3ms/step - loss: 0.4227 - mae: 0.0218 - val_loss: 0.5128 - val_mae: 0.1456\n",
      "Epoch 16/20\n",
      "\u001b[1m454/454\u001b[0m \u001b[32m━━━━━━━━━━━━━━━━━━━━\u001b[0m\u001b[37m\u001b[0m \u001b[1m1s\u001b[0m 3ms/step - loss: 0.4204 - mae: 0.0215 - val_loss: 0.5129 - val_mae: 0.1458\n",
      "Epoch 17/20\n",
      "\u001b[1m454/454\u001b[0m \u001b[32m━━━━━━━━━━━━━━━━━━━━\u001b[0m\u001b[37m\u001b[0m \u001b[1m1s\u001b[0m 3ms/step - loss: 0.4202 - mae: 0.0213 - val_loss: 0.5123 - val_mae: 0.1452\n",
      "Epoch 18/20\n",
      "\u001b[1m454/454\u001b[0m \u001b[32m━━━━━━━━━━━━━━━━━━━━\u001b[0m\u001b[37m\u001b[0m \u001b[1m1s\u001b[0m 3ms/step - loss: 0.4209 - mae: 0.0210 - val_loss: 0.5115 - val_mae: 0.1442\n",
      "Epoch 19/20\n",
      "\u001b[1m454/454\u001b[0m \u001b[32m━━━━━━━━━━━━━━━━━━━━\u001b[0m\u001b[37m\u001b[0m \u001b[1m1s\u001b[0m 3ms/step - loss: 0.4196 - mae: 0.0203 - val_loss: 0.5118 - val_mae: 0.1444\n",
      "Epoch 20/20\n",
      "\u001b[1m454/454\u001b[0m \u001b[32m━━━━━━━━━━━━━━━━━━━━\u001b[0m\u001b[37m\u001b[0m \u001b[1m1s\u001b[0m 3ms/step - loss: 0.4238 - mae: 0.0200 - val_loss: 0.5108 - val_mae: 0.1435\n"
     ]
    }
   ],
   "source": [
    "history = model.fit(\n",
    "    x=[X_train[:, 0], X_train[:, 1]],\n",
    "    y=y_train,\n",
    "    batch_size=64,\n",
    "    epochs=20,  # We can start with 10 epochs and see how it performs\n",
    "    verbose=1,\n",
    "    validation_data=([X_test[:, 0], X_test[:, 1]], y_test)\n",
    ")"
   ]
  },
  {
   "cell_type": "code",
   "execution_count": 39,
   "metadata": {
    "execution": {
     "iopub.execute_input": "2025-07-29T13:37:36.967285Z",
     "iopub.status.busy": "2025-07-29T13:37:36.967006Z",
     "iopub.status.idle": "2025-07-29T13:37:36.974284Z",
     "shell.execute_reply": "2025-07-29T13:37:36.973599Z",
     "shell.execute_reply.started": "2025-07-29T13:37:36.967266Z"
    },
    "trusted": true
   },
   "outputs": [],
   "source": [
    "def find_similar_games(name, n=10):\n",
    "    \"\"\"\n",
    "    Finds the top N most similar games to a given game name.\n",
    "    \"\"\"\n",
    "    # 1. Extract the learned game weights (embeddings) from the model\n",
    "    game_embedding_weights = model.get_layer('game_embedding').get_weights()[0]\n",
    "\n",
    "    # Normalize the embeddings for consistent similarity scores\n",
    "    game_embedding_weights = game_embedding_weights / np.linalg.norm(game_embedding_weights, axis=1).reshape((-1, 1))\n",
    "\n",
    "    # 2. Get the encoded ID for the input game name\n",
    "    try:\n",
    "        game_id = df_game_info[df_game_info['GameName'] == name]['appid'].values[0]\n",
    "        encoded_id = game_to_encoded[game_id]\n",
    "    except (IndexError, KeyError):\n",
    "        print(f\"Game '{name}' not found in the dataset.\")\n",
    "        return None\n",
    "\n",
    "    # 3. Calculate the dot product (similarity) with all other games\n",
    "    dists = np.dot(game_embedding_weights, game_embedding_weights[encoded_id])\n",
    "    sorted_dists = np.argsort(dists)\n",
    "\n",
    "    # 4. Get the top N closest game IDs (excluding the game itself)\n",
    "    closest = sorted_dists[-n-1:-1]\n",
    "    \n",
    "    # 5. Get the game names and return them\n",
    "    similar_games = []\n",
    "    for c in reversed(closest):\n",
    "        game_name = df_game_info[df_game_info['appid'] == encoded_to_game[c]]['GameName'].values[0]\n",
    "        similar_games.append(game_name)\n",
    "        \n",
    "    return pd.DataFrame(similar_games, columns=['Similar Games'])"
   ]
  },
  {
   "cell_type": "code",
   "execution_count": 40,
   "metadata": {
    "execution": {
     "iopub.execute_input": "2025-07-29T13:37:49.041477Z",
     "iopub.status.busy": "2025-07-29T13:37:49.041177Z",
     "iopub.status.idle": "2025-07-29T13:37:49.084457Z",
     "shell.execute_reply": "2025-07-29T13:37:49.083742Z",
     "shell.execute_reply.started": "2025-07-29T13:37:49.041456Z"
    },
    "trusted": true
   },
   "outputs": [
    {
     "name": "stdout",
     "output_type": "stream",
     "text": [
      "                        Similar Games\n",
      "0                           BlazeRush\n",
      "1                         Enemy Front\n",
      "2                     Divine Divinity\n",
      "3                        Gunman Clive\n",
      "4                Planets Under Attack\n",
      "5      Shantae and the Pirate's Curse\n",
      "6                 Another Perspective\n",
      "7  Wasteland 1 - The Original Classic\n",
      "8                           Coniclysm\n",
      "9                  Planet of the Eyes\n"
     ]
    }
   ],
   "source": [
    "recommendations = find_similar_games(\"Counter-Strike\")\n",
    "print(recommendations)"
   ]
  },
  {
   "cell_type": "code",
   "execution_count": 41,
   "metadata": {
    "execution": {
     "iopub.execute_input": "2025-07-29T13:47:55.292053Z",
     "iopub.status.busy": "2025-07-29T13:47:55.291774Z",
     "iopub.status.idle": "2025-07-29T13:47:55.297678Z",
     "shell.execute_reply": "2025-07-29T13:47:55.296853Z",
     "shell.execute_reply.started": "2025-07-29T13:47:55.292029Z"
    },
    "trusted": true
   },
   "outputs": [],
   "source": [
    "def find_similar_users(user_id, n=10):\n",
    "    \"\"\"\n",
    "    Finds the top N most similar users to a given user ID.\n",
    "    \"\"\"\n",
    "    # Extract user embeddings and normalize them\n",
    "    user_embedding_weights = model.get_layer('user_embedding').get_weights()[0]\n",
    "    user_embedding_weights = user_embedding_weights / np.linalg.norm(user_embedding_weights, axis=1).reshape((-1, 1))\n",
    "\n",
    "    # Get the encoded ID for the input user\n",
    "    try:\n",
    "        encoded_id = user_to_encoded[user_id]\n",
    "    except KeyError:\n",
    "        print(f\"User '{user_id}' not found.\")\n",
    "        return None\n",
    "\n",
    "    # Calculate similarity with all other users\n",
    "    dists = np.dot(user_embedding_weights, user_embedding_weights[encoded_id])\n",
    "    sorted_dists = np.argsort(dists)\n",
    "    \n",
    "    # Get the top N closest user IDs\n",
    "    closest = sorted_dists[-n-1:-1]\n",
    "    similar_users = [encoded_to_user[c] for c in reversed(closest)]\n",
    "    \n",
    "    return pd.DataFrame(similar_users, columns=['Similar Users'])"
   ]
  },
  {
   "cell_type": "code",
   "execution_count": 42,
   "metadata": {
    "execution": {
     "iopub.execute_input": "2025-07-29T13:48:16.941867Z",
     "iopub.status.busy": "2025-07-29T13:48:16.941603Z",
     "iopub.status.idle": "2025-07-29T13:48:16.946644Z",
     "shell.execute_reply": "2025-07-29T13:48:16.945717Z",
     "shell.execute_reply.started": "2025-07-29T13:48:16.941847Z"
    },
    "trusted": true
   },
   "outputs": [],
   "source": [
    "def get_user_preferences(user_id):\n",
    "    \"\"\"\n",
    "    Gets a DataFrame of games a user has rated highly.\n",
    "    \"\"\"\n",
    "    games_played = df_merged[df_merged[\"UserID\"] == user_id]\n",
    "    \n",
    "    # Get the user's 75th percentile rating to define \"high rating\"\n",
    "    rating_percentile = np.percentile(games_played.rating_normalized, 75)\n",
    "    \n",
    "    # Filter for games rated at or above the percentile\n",
    "    top_games = games_played[games_played[\"rating_normalized\"] >= rating_percentile]\n",
    "    top_games = top_games.sort_values(\"rating_normalized\", ascending=False)\n",
    "    \n",
    "    # Join with metadata to get game names\n",
    "    top_games_with_names = top_games.merge(df_game_info[['appid', 'GameName']], on='appid')\n",
    "    \n",
    "    return top_games_with_names"
   ]
  },
  {
   "cell_type": "code",
   "execution_count": 43,
   "metadata": {
    "execution": {
     "iopub.execute_input": "2025-07-29T13:50:37.052199Z",
     "iopub.status.busy": "2025-07-29T13:50:37.051895Z",
     "iopub.status.idle": "2025-07-29T13:50:37.058255Z",
     "shell.execute_reply": "2025-07-29T13:50:37.057464Z",
     "shell.execute_reply.started": "2025-07-29T13:50:37.052174Z"
    },
    "trusted": true
   },
   "outputs": [],
   "source": [
    "def get_user_recommendations(user_id, n=10):\n",
    "    \"\"\"\n",
    "    Generates top N game recommendations for a user.\n",
    "    \"\"\"\n",
    "    # Find similar users\n",
    "    similar_users_df = find_similar_users(user_id)\n",
    "    if similar_users_df is None:\n",
    "        return None\n",
    "    \n",
    "    similar_users = similar_users_df['Similar Users'].tolist()\n",
    "\n",
    "    # Get the preferences of those similar users\n",
    "    recommended_games = []\n",
    "    for other_user in similar_users:\n",
    "        top_games = get_user_preferences(other_user)\n",
    "        recommended_games.extend(top_games['GameName'].tolist())\n",
    "\n",
    "    # Get games the original user has already played to filter them out\n",
    "    user_played_games = get_user_preferences(user_id)['GameName'].tolist()\n",
    "\n",
    "    # Count the recommendations and filter out played games\n",
    "    rec_counts = pd.Series(recommended_games).value_counts()\n",
    "    rec_counts = rec_counts[~rec_counts.index.isin(user_played_games)]\n",
    "    \n",
    "    return pd.DataFrame(rec_counts.head(n)).reset_index().rename(columns={'index': 'Recommended Game', 0: 'Recommendation Score'})\n"
   ]
  },
  {
   "cell_type": "code",
   "execution_count": 44,
   "metadata": {
    "execution": {
     "iopub.execute_input": "2025-07-29T13:50:46.071538Z",
     "iopub.status.busy": "2025-07-29T13:50:46.071014Z",
     "iopub.status.idle": "2025-07-29T13:50:46.149451Z",
     "shell.execute_reply": "2025-07-29T13:50:46.148740Z",
     "shell.execute_reply.started": "2025-07-29T13:50:46.071515Z"
    },
    "trusted": true
   },
   "outputs": [
    {
     "name": "stdout",
     "output_type": "stream",
     "text": [
      "Top 10 Recommendations for User 151603712:\n",
      "    Recommended Game  count\n",
      "0        Garry's Mod      4\n",
      "1    Team Fortress 2      2\n",
      "2   This War of Mine      1\n",
      "3  Company of Heroes      1\n",
      "4          Far Cry 3      1\n",
      "5         L.A. Noire      1\n",
      "6        Democracy 3      1\n",
      "7          Tropico 5      1\n",
      "8           Terraria      1\n",
      "9      Killing Floor      1\n"
     ]
    }
   ],
   "source": [
    "test_user_id = 151603712 \n",
    "recommendations = get_user_recommendations(test_user_id)\n",
    "\n",
    "print(f\"Top 10 Recommendations for User {test_user_id}:\")\n",
    "print(recommendations)"
   ]
  },
  {
   "cell_type": "code",
   "execution_count": 45,
   "metadata": {
    "execution": {
     "iopub.execute_input": "2025-07-29T14:11:15.072328Z",
     "iopub.status.busy": "2025-07-29T14:11:15.071698Z",
     "iopub.status.idle": "2025-07-29T14:11:15.078830Z",
     "shell.execute_reply": "2025-07-29T14:11:15.078200Z",
     "shell.execute_reply.started": "2025-07-29T14:11:15.072301Z"
    },
    "trusted": true
   },
   "outputs": [],
   "source": [
    "def hybrid_recommendation(user_id, n=10, user_weight=1.0, content_weight=0.5):\n",
    "    \"\"\"\n",
    "    Generates a hybrid recommendation by combining user-based and content-based models.\n",
    "    \"\"\"\n",
    "    # 1. Get user-based collaborative filtering recommendations\n",
    "    user_recs_df = get_user_recommendations(user_id, n=20) # Get a larger list to start\n",
    "    if user_recs_df is None:\n",
    "        return \"User not found.\"\n",
    "    user_recs = user_recs_df['Recommended Game'].tolist()\n",
    "    \n",
    "    # 2. Get content-based recommendations\n",
    "    # Find games similar to the user's top preferences\n",
    "    user_top_games = get_user_preferences(user_id)['GameName'].tolist()\n",
    "    content_recs = []\n",
    "    for game_name in user_top_games[:5]: # Use top 5 games as seed\n",
    "        similar_games = find_similar_games(game_name)\n",
    "        if similar_games is not None:\n",
    "            content_recs.extend(similar_games['Similar Games'].tolist())\n",
    "\n",
    "    # 3. Combine and re-rank the recommendations\n",
    "    combined_scores = {}\n",
    "\n",
    "    # Add scores from user-based recommendations\n",
    "    for i, game in enumerate(user_recs):\n",
    "        score = user_weight * (1 / (i + 1)) # Score based on rank\n",
    "        combined_scores[game] = combined_scores.get(game, 0) + score\n",
    "    \n",
    "    # Add scores from content-based recommendations\n",
    "    for i, game in enumerate(content_recs):\n",
    "        score = content_weight * (1 / (i + 1))\n",
    "        combined_scores[game] = combined_scores.get(game, 0) + score\n",
    "\n",
    "    # Sort games by their combined score\n",
    "    sorted_recs = sorted(combined_scores.items(), key=lambda item: item[1], reverse=True)\n",
    "    \n",
    "    # Filter out games the user has already played\n",
    "    final_recs = [(rec, score) for rec, score in sorted_recs if rec not in user_top_games]\n",
    "    \n",
    "    return pd.DataFrame(final_recs[:n], columns=['Recommended Game', 'Hybrid Score'])"
   ]
  },
  {
   "cell_type": "code",
   "execution_count": 46,
   "metadata": {
    "execution": {
     "iopub.execute_input": "2025-07-29T14:11:24.591842Z",
     "iopub.status.busy": "2025-07-29T14:11:24.591597Z",
     "iopub.status.idle": "2025-07-29T14:11:24.683685Z",
     "shell.execute_reply": "2025-07-29T14:11:24.683006Z",
     "shell.execute_reply.started": "2025-07-29T14:11:24.591822Z"
    },
    "trusted": true
   },
   "outputs": [
    {
     "name": "stdout",
     "output_type": "stream",
     "text": [
      "Hybrid Recommendations for User 151603712:\n",
      "    Recommended Game  Hybrid Score\n",
      "0        Garry's Mod      1.000000\n",
      "1    Team Fortress 2      0.500000\n",
      "2    Light of Altair      0.500000\n",
      "3   This War of Mine      0.333333\n",
      "4  Company of Heroes      0.250000\n",
      "5      Patrician III      0.250000\n",
      "6          Far Cry 3      0.200000\n",
      "7         L.A. Noire      0.166667\n",
      "8          Avernum 4      0.166667\n",
      "9        Democracy 3      0.142857\n"
     ]
    }
   ],
   "source": [
    "test_user_id = 151603712\n",
    "hybrid_recommendations = hybrid_recommendation(test_user_id)\n",
    "\n",
    "print(f\"Hybrid Recommendations for User {test_user_id}:\")\n",
    "print(hybrid_recommendations)"
   ]
  },
  {
   "cell_type": "code",
   "execution_count": null,
   "metadata": {
    "trusted": true
   },
   "outputs": [],
   "source": []
  }
 ],
 "metadata": {
  "kaggle": {
   "accelerator": "nvidiaTeslaT4",
   "dataSources": [
    {
     "datasetId": 915,
     "sourceId": 1720,
     "sourceType": "datasetVersion"
    },
    {
     "datasetId": 227895,
     "sourceId": 490308,
     "sourceType": "datasetVersion"
    }
   ],
   "dockerImageVersionId": 31090,
   "isGpuEnabled": true,
   "isInternetEnabled": true,
   "language": "python",
   "sourceType": "notebook"
  },
  "kernelspec": {
   "display_name": "Python 3",
   "language": "python",
   "name": "python3"
  },
  "language_info": {
   "codemirror_mode": {
    "name": "ipython",
    "version": 3
   },
   "file_extension": ".py",
   "mimetype": "text/x-python",
   "name": "python",
   "nbconvert_exporter": "python",
   "pygments_lexer": "ipython3",
   "version": "3.11.13"
  }
 },
 "nbformat": 4,
 "nbformat_minor": 4
}
